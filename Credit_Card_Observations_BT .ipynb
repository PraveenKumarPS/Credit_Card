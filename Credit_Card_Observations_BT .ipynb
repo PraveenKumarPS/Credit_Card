{
 "cells": [
  {
   "cell_type": "code",
   "execution_count": 337,
   "id": "c5d37a68-7901-46c4-ac09-d79427193715",
   "metadata": {},
   "outputs": [],
   "source": [
    "# IMPORTING PACKAGES\n",
    "\n",
    "import pandas as pd # data processing\n",
    "import numpy as np # working with arrays\n",
    "import matplotlib.pyplot as plt # visualization"
   ]
  },
  {
   "cell_type": "code",
   "execution_count": 338,
   "id": "5c87fa45",
   "metadata": {},
   "outputs": [],
   "source": [
    "# IMPORTING DATA\n",
    "df = pd.read_csv('transactions.csv')"
   ]
  },
  {
   "cell_type": "code",
   "execution_count": 339,
   "id": "c64eaa6a",
   "metadata": {},
   "outputs": [
    {
     "name": "stdout",
     "output_type": "stream",
     "text": [
      "(348676, 12)\n"
     ]
    },
    {
     "data": {
      "text/html": [
       "<div>\n",
       "<style scoped>\n",
       "    .dataframe tbody tr th:only-of-type {\n",
       "        vertical-align: middle;\n",
       "    }\n",
       "\n",
       "    .dataframe tbody tr th {\n",
       "        vertical-align: top;\n",
       "    }\n",
       "\n",
       "    .dataframe thead th {\n",
       "        text-align: right;\n",
       "    }\n",
       "</style>\n",
       "<table border=\"1\" class=\"dataframe\">\n",
       "  <thead>\n",
       "    <tr style=\"text-align: right;\">\n",
       "      <th></th>\n",
       "      <th>user_id</th>\n",
       "      <th>card_id</th>\n",
       "      <th>time</th>\n",
       "      <th>transaction_value</th>\n",
       "      <th>transaction_type</th>\n",
       "      <th>city</th>\n",
       "      <th>state</th>\n",
       "      <th>zip_code</th>\n",
       "      <th>MCC</th>\n",
       "      <th>data_quality</th>\n",
       "      <th>is_fraud</th>\n",
       "      <th>date</th>\n",
       "    </tr>\n",
       "  </thead>\n",
       "  <tbody>\n",
       "    <tr>\n",
       "      <th>0</th>\n",
       "      <td>1</td>\n",
       "      <td>1</td>\n",
       "      <td>14:05</td>\n",
       "      <td>$488.00</td>\n",
       "      <td>Chip Transaction</td>\n",
       "      <td>Rome</td>\n",
       "      <td>Italy</td>\n",
       "      <td>NaN</td>\n",
       "      <td>3684</td>\n",
       "      <td>NaN</td>\n",
       "      <td>Yes</td>\n",
       "      <td>2019-5-11</td>\n",
       "    </tr>\n",
       "    <tr>\n",
       "      <th>1</th>\n",
       "      <td>1</td>\n",
       "      <td>1</td>\n",
       "      <td>14:53</td>\n",
       "      <td>$14.22</td>\n",
       "      <td>Chip Transaction</td>\n",
       "      <td>Rome</td>\n",
       "      <td>Italy</td>\n",
       "      <td>NaN</td>\n",
       "      <td>5311</td>\n",
       "      <td>NaN</td>\n",
       "      <td>Yes</td>\n",
       "      <td>2019-5-11</td>\n",
       "    </tr>\n",
       "    <tr>\n",
       "      <th>2</th>\n",
       "      <td>1</td>\n",
       "      <td>1</td>\n",
       "      <td>14:26</td>\n",
       "      <td>$13.79</td>\n",
       "      <td>Chip Transaction</td>\n",
       "      <td>Rome</td>\n",
       "      <td>Italy</td>\n",
       "      <td>NaN</td>\n",
       "      <td>4214</td>\n",
       "      <td>NaN</td>\n",
       "      <td>Yes</td>\n",
       "      <td>2019-5-16</td>\n",
       "    </tr>\n",
       "    <tr>\n",
       "      <th>3</th>\n",
       "      <td>1</td>\n",
       "      <td>1</td>\n",
       "      <td>15:12</td>\n",
       "      <td>$12.27</td>\n",
       "      <td>Chip Transaction</td>\n",
       "      <td>Rome</td>\n",
       "      <td>Italy</td>\n",
       "      <td>NaN</td>\n",
       "      <td>5812</td>\n",
       "      <td>NaN</td>\n",
       "      <td>Yes</td>\n",
       "      <td>2019-5-16</td>\n",
       "    </tr>\n",
       "    <tr>\n",
       "      <th>4</th>\n",
       "      <td>1</td>\n",
       "      <td>1</td>\n",
       "      <td>13:23</td>\n",
       "      <td>$38.63</td>\n",
       "      <td>Chip Transaction</td>\n",
       "      <td>Rome</td>\n",
       "      <td>Italy</td>\n",
       "      <td>NaN</td>\n",
       "      <td>5921</td>\n",
       "      <td>NaN</td>\n",
       "      <td>Yes</td>\n",
       "      <td>2019-5-17</td>\n",
       "    </tr>\n",
       "  </tbody>\n",
       "</table>\n",
       "</div>"
      ],
      "text/plain": [
       "   user_id  card_id   time transaction_value  transaction_type  city  state  \\\n",
       "0        1        1  14:05           $488.00  Chip Transaction  Rome  Italy   \n",
       "1        1        1  14:53            $14.22  Chip Transaction  Rome  Italy   \n",
       "2        1        1  14:26            $13.79  Chip Transaction  Rome  Italy   \n",
       "3        1        1  15:12            $12.27  Chip Transaction  Rome  Italy   \n",
       "4        1        1  13:23            $38.63  Chip Transaction  Rome  Italy   \n",
       "\n",
       "   zip_code   MCC data_quality is_fraud       date  \n",
       "0       NaN  3684          NaN      Yes  2019-5-11  \n",
       "1       NaN  5311          NaN      Yes  2019-5-11  \n",
       "2       NaN  4214          NaN      Yes  2019-5-16  \n",
       "3       NaN  5812          NaN      Yes  2019-5-16  \n",
       "4       NaN  5921          NaN      Yes  2019-5-17  "
      ]
     },
     "execution_count": 339,
     "metadata": {},
     "output_type": "execute_result"
    }
   ],
   "source": [
    "print(df.shape)\n",
    "df.head()"
   ]
  },
  {
   "cell_type": "code",
   "execution_count": 340,
   "id": "dc17d8c0",
   "metadata": {},
   "outputs": [
    {
     "name": "stdout",
     "output_type": "stream",
     "text": [
      "<class 'pandas.core.frame.DataFrame'>\n",
      "RangeIndex: 348676 entries, 0 to 348675\n",
      "Data columns (total 12 columns):\n",
      " #   Column             Non-Null Count   Dtype  \n",
      "---  ------             --------------   -----  \n",
      " 0   user_id            348676 non-null  int64  \n",
      " 1   card_id            348676 non-null  int64  \n",
      " 2   time               348676 non-null  object \n",
      " 3   transaction_value  348676 non-null  object \n",
      " 4   transaction_type   348676 non-null  object \n",
      " 5   city               348676 non-null  object \n",
      " 6   state              305422 non-null  object \n",
      " 7   zip_code           298909 non-null  float64\n",
      " 8   MCC                348676 non-null  int64  \n",
      " 9   data_quality       5576 non-null    object \n",
      " 10  is_fraud           348676 non-null  object \n",
      " 11  date               348676 non-null  object \n",
      "dtypes: float64(1), int64(3), object(8)\n",
      "memory usage: 31.9+ MB\n"
     ]
    }
   ],
   "source": [
    "df.info()"
   ]
  },
  {
   "cell_type": "code",
   "execution_count": 341,
   "id": "15c09001",
   "metadata": {},
   "outputs": [
    {
     "name": "stdout",
     "output_type": "stream",
     "text": [
      "CASE COUNT\n",
      "--------------------------------------------\n",
      "Total number of cases are 348676\n",
      "Number of Non-fraud cases are 344098\n",
      "Number of fraud cases are 4578\n",
      "Percentage of fraud cases is 1.33\n",
      "--------------------------------------------\n"
     ]
    }
   ],
   "source": [
    "#Exploratory Data Analysis (EDA)\n",
    "\n",
    "cases = len(df)\n",
    "nonfraud_count = len(df[df.is_fraud == 'No'])\n",
    "fraud_count = len(df[df.is_fraud == 'Yes'])\n",
    "fraud_percentage = round(fraud_count/nonfraud_count*100, 2)\n",
    "\n",
    "print(cl('CASE COUNT'))\n",
    "print(cl('--------------------------------------------'))\n",
    "print(cl('Total number of cases are {}'.format(cases)))\n",
    "print(cl('Number of Non-fraud cases are {}'.format(nonfraud_count)))\n",
    "print(cl('Number of fraud cases are {}'.format(fraud_count)))\n",
    "print(cl('Percentage of fraud cases is {}'.format(fraud_percentage)))\n",
    "print(cl('--------------------------------------------'))"
   ]
  },
  {
   "cell_type": "code",
   "execution_count": 342,
   "id": "61da9079",
   "metadata": {},
   "outputs": [
    {
     "name": "stdout",
     "output_type": "stream",
     "text": [
      "Average Fraud Time 14.73465487112276\n",
      "Maximum Time of transaction in Fraud case is 19.59\n",
      "Minimum Time of transaction in Fraud case is 4.04\n"
     ]
    }
   ],
   "source": [
    "df['time'] = df['time'].str.replace(':', '.')\n",
    "df['time'] = df['time'].map(lambda x: float(x))\n",
    "Average_Fraud_Time=df.loc[df['is_fraud'] == 'Yes', 'time'].mean()\n",
    "print(cl('Average Fraud Time {}'.format(Average_Fraud_Time)))\n",
    "Fraud_Max_Time = df.loc[df['is_fraud'] == 'Yes', 'time'].max()\n",
    "print(cl('Maximum Time of transaction in Fraud case is {}'.format(Fraud_Max_Time)))\n",
    "Fraud_Min_Time = df.loc[df['is_fraud'] == 'Yes', 'time'].min()\n",
    "print(cl('Minimum Time of transaction in Fraud case is {}'.format(Fraud_Min_Time)))\n"
   ]
  },
  {
   "cell_type": "code",
   "execution_count": 343,
   "id": "0070ac6b",
   "metadata": {},
   "outputs": [
    {
     "name": "stdout",
     "output_type": "stream",
     "text": [
      "Average Non Fraud Time is 12.703423501444354\n",
      "Average Fraud Time 14.73465487112276\n",
      "Maximum Time of transaction in Non Fraud case is 23.59\n",
      "Minimum Time of transaction in Non Fraud case is 0.0\n"
     ]
    }
   ],
   "source": [
    "print(cl('Average Non Fraud Time is {}'.format(Average_Non_Fraud_Time)))\n",
    "print(cl('Average Fraud Time {}'.format(Average_Fraud_Time)))\n",
    "Non_Fraud_Max_Time = df.loc[df['is_fraud'] == 'No', 'time'].max()\n",
    "print(cl('Maximum Time of transaction in Non Fraud case is {}'.format(Non_Fraud_Max_Time)))\n",
    "Non_Fraud_Min_Time = df.loc[df['is_fraud'] == 'No', 'time'].min()\n",
    "print(cl('Minimum Time of transaction in Non Fraud case is {}'.format(Non_Fraud_Min_Time)))\n"
   ]
  },
  {
   "cell_type": "code",
   "execution_count": 344,
   "id": "d19a179d",
   "metadata": {},
   "outputs": [
    {
     "name": "stdout",
     "output_type": "stream",
     "text": [
      "user_id                             0\n",
      "card_id                             0\n",
      "time                              0.0\n",
      "transaction_value              $-0.20\n",
      "transaction_type     Chip Transaction\n",
      "city                        Abbeville\n",
      "state                              AK\n",
      "zip_code                       1012.0\n",
      "MCC                              1711\n",
      "data_quality                  Bad CVV\n",
      "is_fraud                           No\n",
      "date                         2018-1-1\n",
      "dtype: object\n"
     ]
    }
   ],
   "source": [
    "result = df.apply(lambda x: x.sort_values().unique()[0], axis=0)\n",
    "print(result)"
   ]
  },
  {
   "cell_type": "code",
   "execution_count": 345,
   "id": "080f237b",
   "metadata": {},
   "outputs": [
    {
     "name": "stdout",
     "output_type": "stream",
     "text": [
      "Number of fraud cases are 4578\n"
     ]
    },
    {
     "data": {
      "text/plain": [
       "Rome          4427\n",
       "ONLINE         128\n",
       "Marion          22\n",
       "Perrysburg       1\n",
       "Name: city, dtype: int64"
      ]
     },
     "execution_count": 345,
     "metadata": {},
     "output_type": "execute_result"
    }
   ],
   "source": [
    "fraud_count = len(df[df.is_fraud == 'Yes'])\n",
    "print(cl('Number of fraud cases are {}'.format(fraud_count)))\n",
    "df.loc[df['is_fraud'] == 'Yes', 'city'].value_counts()\n",
    "#df['city'].value_counts()"
   ]
  },
  {
   "cell_type": "code",
   "execution_count": 346,
   "id": "6dd5f586",
   "metadata": {},
   "outputs": [
    {
     "data": {
      "text/plain": [
       "ONLINE         43126\n",
       "Houston         3508\n",
       "Los Angeles     2597\n",
       "Miami           2416\n",
       "Brooklyn        2126\n",
       "               ...  \n",
       "Tawas City         1\n",
       "Prosperity         1\n",
       "Bassett            1\n",
       "Blue Ridge         1\n",
       "Platte             1\n",
       "Name: city, Length: 6708, dtype: int64"
      ]
     },
     "execution_count": 346,
     "metadata": {},
     "output_type": "execute_result"
    }
   ],
   "source": [
    "df.loc[df['is_fraud'] == 'No', 'city'].value_counts()"
   ]
  },
  {
   "cell_type": "code",
   "execution_count": 347,
   "id": "f5230596",
   "metadata": {},
   "outputs": [
    {
     "data": {
      "text/plain": [
       "Chip Transaction      4008\n",
       "Swipe Transaction      442\n",
       "Online Transaction     128\n",
       "Name: transaction_type, dtype: int64"
      ]
     },
     "execution_count": 347,
     "metadata": {},
     "output_type": "execute_result"
    }
   ],
   "source": [
    "df.loc[df['is_fraud'] == 'Yes', 'transaction_type'].value_counts()"
   ]
  },
  {
   "cell_type": "code",
   "execution_count": 348,
   "id": "6f5f8fe3",
   "metadata": {},
   "outputs": [
    {
     "data": {
      "text/plain": [
       "Chip Transaction      242723\n",
       "Swipe Transaction      58519\n",
       "Online Transaction     42856\n",
       "Name: transaction_type, dtype: int64"
      ]
     },
     "execution_count": 348,
     "metadata": {},
     "output_type": "execute_result"
    }
   ],
   "source": [
    "df.loc[df['is_fraud'] == 'No', 'transaction_type'].value_counts()"
   ]
  },
  {
   "cell_type": "code",
   "execution_count": 349,
   "id": "58c50b74",
   "metadata": {},
   "outputs": [
    {
     "name": "stderr",
     "output_type": "stream",
     "text": [
      "/tmp/ipykernel_10024/1181264445.py:1: FutureWarning: The default value of regex will change from True to False in a future version. In addition, single character regular expressions will *not* be treated as literal strings when regex=True.\n",
      "  df['transaction_value'] = df['transaction_value'].str.replace('$', '')\n"
     ]
    },
    {
     "name": "stdout",
     "output_type": "stream",
     "text": [
      "Total Fraud Transaction Amount 412520.31\n",
      "Average Transaction Amount per Fraud user 90.10928571428572\n",
      "Highest Fraud Transaction Amount 1442.63\n",
      "Average Transaction Amount per Non Fraud user 52.512355346442014\n",
      "Highest Non Fraud Transaction Amount 6613.44\n"
     ]
    }
   ],
   "source": [
    "df['transaction_value'] = df['transaction_value'].str.replace('$', '')\n",
    "df['transaction_value'] = df['transaction_value'].str.replace('-', '')\n",
    "df['transaction_value'] = df['transaction_value'].map(lambda x: float(x))\n",
    "df['transaction_value'].fillna((df['transaction_value'].mean()), inplace=True)\n",
    "Total_Fraud_transaction_value=df.loc[df['is_fraud'] == 'Yes', 'transaction_value'].sum()\n",
    "print(cl('Total Fraud Transaction Amount {}'.format(Total_Fraud_transaction_value)))\n",
    "#fraud_count = len(df[df.is_fraud == 'Yes'])\n",
    "#Average_Transaction = round(Total_Fraud_transaction_value/fraud_count*100, 2)\n",
    "Average_Transaction=df.loc[df['is_fraud'] == 'Yes', 'transaction_value'].mean()\n",
    "print(cl('Average Transaction Amount per Fraud user {}'.format(Average_Transaction)))\n",
    "Highest_Fraud_transaction_value=df.loc[df['is_fraud'] == 'Yes', 'transaction_value'].max()\n",
    "print(cl('Highest Fraud Transaction Amount {}'.format(Highest_Fraud_transaction_value)))\n",
    "Average_Transaction_Non_Fraud=df.loc[df['is_fraud'] == 'No', 'transaction_value'].mean()\n",
    "print(cl('Average Transaction Amount per Non Fraud user {}'.format(Average_Transaction_Non_Fraud)))\n",
    "Max_Non_Fraud_transaction_value=df.loc[df['is_fraud'] == 'N0', 'transaction_value'].max()\n",
    "print(cl('Highest Non Fraud Transaction Amount {}'.format(Highest_Non_Fraud_transaction_value)))"
   ]
  },
  {
   "cell_type": "code",
   "execution_count": 350,
   "id": "949270da",
   "metadata": {},
   "outputs": [
    {
     "data": {
      "text/plain": [
       "Text(0.5, 1.0, 'Transaction times')"
      ]
     },
     "execution_count": 350,
     "metadata": {},
     "output_type": "execute_result"
    },
    {
     "data": {
      "text/plain": [
       "<Figure size 960x320 with 0 Axes>"
      ]
     },
     "metadata": {},
     "output_type": "display_data"
    },
    {
     "data": {
      "image/png": "[encoded data removed]",
      "text/plain": [
       "<Figure size 500x500 with 1 Axes>"
      ]
     },
     "metadata": {},
     "output_type": "display_data"
    }
   ],
   "source": [
    "import seaborn as sns\n",
    "\n",
    "plt.figure(figsize=(12,4), dpi=80)\n",
    "amount_value = df['transaction_value'].values # values\n",
    "time_value = df['time'].values # values\n",
    "sns.displot(time_value, bins=48)\n",
    "plt.xlim([0,24])\n",
    "plt.xticks(np.arange(0,24,2))\n",
    "plt.xlabel('Time of Transaction (hr)')\n",
    "plt.ylabel('count')\n",
    "plt.title('Transaction times')"
   ]
  },
  {
   "cell_type": "code",
   "execution_count": 351,
   "id": "5b2d516c",
   "metadata": {},
   "outputs": [
    {
     "data": {
      "text/plain": [
       "Text(0.5, 1.0, 'Transaction times')"
      ]
     },
     "execution_count": 351,
     "metadata": {},
     "output_type": "execute_result"
    },
    {
     "data": {
      "text/plain": [
       "<Figure size 960x320 with 0 Axes>"
      ]
     },
     "metadata": {},
     "output_type": "display_data"
    },
    {
     "data": {
      "image/png": "[encoded data removed]",
      "text/plain": [
       "<Figure size 500x500 with 1 Axes>"
      ]
     },
     "metadata": {},
     "output_type": "display_data"
    }
   ],
   "source": [
    "df_nofraud=df[df.is_fraud == 'No']\n",
    "#df_nofraud_value=df_nofraud.values\n",
    "plt.figure(figsize=(12,4), dpi=80)\n",
    "#amount_value = df['transaction_value'].values # values\n",
    "time_value = df['time'].values # values\n",
    "sns.displot(df_nofraud['time'], bins=48)\n",
    "plt.xlim([0,24])\n",
    "plt.xticks(np.arange(0,24,2))\n",
    "plt.xlabel('Time of Transaction (hr)')\n",
    "plt.ylabel('count')\n",
    "plt.title('Transaction times')"
   ]
  },
  {
   "cell_type": "code",
   "execution_count": 352,
   "id": "2d08f35d",
   "metadata": {},
   "outputs": [
    {
     "data": {
      "text/plain": [
       "Text(0.5, 1.0, 'Transaction times')"
      ]
     },
     "execution_count": 352,
     "metadata": {},
     "output_type": "execute_result"
    },
    {
     "data": {
      "text/plain": [
       "<Figure size 960x320 with 0 Axes>"
      ]
     },
     "metadata": {},
     "output_type": "display_data"
    },
    {
     "data": {
      "image/png": "[encoded data removed]",
      "text/plain": [
       "<Figure size 500x500 with 1 Axes>"
      ]
     },
     "metadata": {},
     "output_type": "display_data"
    }
   ],
   "source": [
    "df_fraud=df[df.is_fraud == 'Yes']\n",
    "#df_nofraud_value=df_nofraud.values\n",
    "plt.figure(figsize=(12,4), dpi=80)\n",
    "#amount_value = df['transaction_value'].values # values\n",
    "time_value = df['time'].values # values\n",
    "sns.displot(df_fraud['time'], bins=48)\n",
    "plt.xlim([0,24])\n",
    "plt.xticks(np.arange(0,24,2))\n",
    "plt.xlabel('Time of Transaction (hr)')\n",
    "plt.ylabel('count')\n",
    "plt.title('Transaction times')"
   ]
  },
  {
   "cell_type": "code",
   "execution_count": null,
   "id": "eb7b8815",
   "metadata": {},
   "outputs": [],
   "source": []
  }
 ],
 "metadata": {
  "kernelspec": {
   "display_name": "Python 3 (ipykernel)",
   "language": "python",
   "name": "python3"
  },
  "language_info": {
   "codemirror_mode": {
    "name": "ipython",
    "version": 3
   },
   "file_extension": ".py",
   "mimetype": "text/x-python",
   "name": "python",
   "nbconvert_exporter": "python",
   "pygments_lexer": "ipython3",
   "version": "3.10.11"
  }
 },
 "nbformat": 4,
 "nbformat_minor": 5
}
